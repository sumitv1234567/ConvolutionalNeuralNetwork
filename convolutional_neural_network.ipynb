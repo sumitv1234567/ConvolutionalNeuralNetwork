{
 "cells": [
  {
   "cell_type": "markdown",
   "metadata": {
    "colab_type": "text",
    "id": "3DR-eO17geWu"
   },
   "source": [
    "# Convolutional Neural Network"
   ]
  },
  {
   "cell_type": "markdown",
   "metadata": {
    "colab_type": "text",
    "id": "EMefrVPCg-60"
   },
   "source": [
    "### Importing the libraries"
   ]
  },
  {
   "cell_type": "code",
   "execution_count": 1,
   "metadata": {
    "colab": {},
    "colab_type": "code",
    "id": "sCV30xyVhFbE"
   },
   "outputs": [],
   "source": [
    "import tensorflow as tf\n",
    "from keras.preprocessing.image import ImageDataGenerator"
   ]
  },
  {
   "cell_type": "code",
   "execution_count": 2,
   "metadata": {
    "colab": {},
    "colab_type": "code",
    "id": "FIleuCAjoFD8"
   },
   "outputs": [
    {
     "data": {
      "text/plain": [
       "'2.4.1'"
      ]
     },
     "execution_count": 2,
     "metadata": {},
     "output_type": "execute_result"
    }
   ],
   "source": [
    "tf.__version__"
   ]
  },
  {
   "cell_type": "markdown",
   "metadata": {
    "colab_type": "text",
    "id": "oxQxCBWyoGPE"
   },
   "source": [
    "## Part 1 - Data Preprocessing"
   ]
  },
  {
   "cell_type": "markdown",
   "metadata": {
    "colab_type": "text",
    "id": "MvE-heJNo3GG"
   },
   "source": [
    "### Preprocessing the Training set"
   ]
  },
  {
   "cell_type": "code",
   "execution_count": 3,
   "metadata": {
    "colab": {},
    "colab_type": "code",
    "id": "0koUcJMJpEBD"
   },
   "outputs": [
    {
     "name": "stdout",
     "output_type": "stream",
     "text": [
      "Found 8000 images belonging to 2 classes.\n"
     ]
    }
   ],
   "source": [
    "train_datagen = ImageDataGenerator(rescale = 1./255,\n",
    "                                   shear_range = 0.2,\n",
    "                                   zoom_range = 0.2,\n",
    "                                   horizontal_flip = True)\n",
    "training_set = train_datagen.flow_from_directory('dataset/training_set',\n",
    "                                                 target_size = (64, 64),\n",
    "                                                 batch_size = 32,\n",
    "                                                 class_mode = 'binary')"
   ]
  },
  {
   "cell_type": "markdown",
   "metadata": {
    "colab_type": "text",
    "id": "mrCMmGw9pHys"
   },
   "source": [
    "### Preprocessing the Test set"
   ]
  },
  {
   "cell_type": "code",
   "execution_count": 4,
   "metadata": {
    "colab": {},
    "colab_type": "code",
    "id": "SH4WzfOhpKc3"
   },
   "outputs": [
    {
     "name": "stdout",
     "output_type": "stream",
     "text": [
      "Found 2000 images belonging to 2 classes.\n"
     ]
    }
   ],
   "source": [
    "test_datagen = ImageDataGenerator(rescale = 1./255)\n",
    "test_set = test_datagen.flow_from_directory('dataset/test_set',\n",
    "                                            target_size = (64, 64),\n",
    "                                            batch_size = 32,\n",
    "                                            class_mode = 'binary')"
   ]
  },
  {
   "cell_type": "markdown",
   "metadata": {
    "colab_type": "text",
    "id": "af8O4l90gk7B"
   },
   "source": [
    "## Part 2 - Building the CNN"
   ]
  },
  {
   "cell_type": "markdown",
   "metadata": {
    "colab_type": "text",
    "id": "ces1gXY2lmoX"
   },
   "source": [
    "### Initialising the CNN"
   ]
  },
  {
   "cell_type": "code",
   "execution_count": 5,
   "metadata": {
    "colab": {},
    "colab_type": "code",
    "id": "SAUt4UMPlhLS"
   },
   "outputs": [],
   "source": [
    "cnn = tf.keras.models.Sequential()"
   ]
  },
  {
   "cell_type": "markdown",
   "metadata": {
    "colab_type": "text",
    "id": "u5YJj_XMl5LF"
   },
   "source": [
    "### Step 1 - Convolution"
   ]
  },
  {
   "cell_type": "code",
   "execution_count": 6,
   "metadata": {
    "colab": {},
    "colab_type": "code",
    "id": "XPzPrMckl-hV"
   },
   "outputs": [],
   "source": [
    "cnn.add(tf.keras.layers.Conv2D(filters=32, kernel_size=3, activation='relu', input_shape=[64, 64, 3]))"
   ]
  },
  {
   "cell_type": "markdown",
   "metadata": {
    "colab_type": "text",
    "id": "tf87FpvxmNOJ"
   },
   "source": [
    "### Step 2 - Pooling"
   ]
  },
  {
   "cell_type": "code",
   "execution_count": 7,
   "metadata": {
    "colab": {},
    "colab_type": "code",
    "id": "ncpqPl69mOac"
   },
   "outputs": [],
   "source": [
    "cnn.add(tf.keras.layers.MaxPool2D(pool_size=2, strides=2))"
   ]
  },
  {
   "cell_type": "markdown",
   "metadata": {
    "colab_type": "text",
    "id": "xaTOgD8rm4mU"
   },
   "source": [
    "### Adding a second convolutional layer"
   ]
  },
  {
   "cell_type": "code",
   "execution_count": 8,
   "metadata": {
    "colab": {},
    "colab_type": "code",
    "id": "i_-FZjn_m8gk"
   },
   "outputs": [],
   "source": [
    "cnn.add(tf.keras.layers.Conv2D(filters=32, kernel_size=3, activation='relu'))\n",
    "cnn.add(tf.keras.layers.MaxPool2D(pool_size=2, strides=2))"
   ]
  },
  {
   "cell_type": "markdown",
   "metadata": {
    "colab_type": "text",
    "id": "tmiEuvTunKfk"
   },
   "source": [
    "### Step 3 - Flattening"
   ]
  },
  {
   "cell_type": "code",
   "execution_count": 9,
   "metadata": {
    "colab": {},
    "colab_type": "code",
    "id": "6AZeOGCvnNZn"
   },
   "outputs": [],
   "source": [
    "cnn.add(tf.keras.layers.Flatten())"
   ]
  },
  {
   "cell_type": "markdown",
   "metadata": {
    "colab_type": "text",
    "id": "dAoSECOm203v"
   },
   "source": [
    "### Step 4 - Full Connection"
   ]
  },
  {
   "cell_type": "code",
   "execution_count": 10,
   "metadata": {
    "colab": {},
    "colab_type": "code",
    "id": "8GtmUlLd26Nq"
   },
   "outputs": [],
   "source": [
    "cnn.add(tf.keras.layers.Dense(units=128, activation='relu'))"
   ]
  },
  {
   "cell_type": "markdown",
   "metadata": {
    "colab_type": "text",
    "id": "yTldFvbX28Na"
   },
   "source": [
    "### Step 5 - Output Layer"
   ]
  },
  {
   "cell_type": "code",
   "execution_count": 11,
   "metadata": {
    "colab": {},
    "colab_type": "code",
    "id": "1p_Zj1Mc3Ko_"
   },
   "outputs": [],
   "source": [
    "cnn.add(tf.keras.layers.Dense(units=1, activation='sigmoid'))"
   ]
  },
  {
   "cell_type": "markdown",
   "metadata": {
    "colab_type": "text",
    "id": "D6XkI90snSDl"
   },
   "source": [
    "## Part 3 - Training the CNN"
   ]
  },
  {
   "cell_type": "markdown",
   "metadata": {
    "colab_type": "text",
    "id": "vfrFQACEnc6i"
   },
   "source": [
    "### Compiling the CNN"
   ]
  },
  {
   "cell_type": "code",
   "execution_count": 12,
   "metadata": {
    "colab": {},
    "colab_type": "code",
    "id": "NALksrNQpUlJ"
   },
   "outputs": [],
   "source": [
    "cnn.compile(optimizer = 'adam', loss = 'binary_crossentropy', metrics = ['accuracy'])"
   ]
  },
  {
   "cell_type": "markdown",
   "metadata": {
    "colab_type": "text",
    "id": "ehS-v3MIpX2h"
   },
   "source": [
    "### Training the CNN on the Training set and evaluating it on the Test set"
   ]
  },
  {
   "cell_type": "code",
   "execution_count": 13,
   "metadata": {
    "colab": {},
    "colab_type": "code",
    "id": "XUj1W4PJptta"
   },
   "outputs": [
    {
     "name": "stdout",
     "output_type": "stream",
     "text": [
      "Epoch 1/50\n",
      "250/250 [==============================] - 80s 318ms/step - loss: 0.6948 - accuracy: 0.5121 - val_loss: 0.6237 - val_accuracy: 0.6550\n",
      "Epoch 2/50\n",
      "250/250 [==============================] - 65s 258ms/step - loss: 0.6287 - accuracy: 0.6450 - val_loss: 0.5489 - val_accuracy: 0.7225\n",
      "Epoch 3/50\n",
      "250/250 [==============================] - 60s 241ms/step - loss: 0.5592 - accuracy: 0.7092 - val_loss: 0.5676 - val_accuracy: 0.7140\n",
      "Epoch 4/50\n",
      "250/250 [==============================] - 62s 246ms/step - loss: 0.5213 - accuracy: 0.7367 - val_loss: 0.5322 - val_accuracy: 0.7295\n",
      "Epoch 5/50\n",
      "250/250 [==============================] - 61s 245ms/step - loss: 0.4950 - accuracy: 0.7561 - val_loss: 0.4962 - val_accuracy: 0.7705\n",
      "Epoch 6/50\n",
      "250/250 [==============================] - 62s 249ms/step - loss: 0.4608 - accuracy: 0.7859 - val_loss: 0.4824 - val_accuracy: 0.7805\n",
      "Epoch 7/50\n",
      "250/250 [==============================] - 63s 251ms/step - loss: 0.4569 - accuracy: 0.7856 - val_loss: 0.4983 - val_accuracy: 0.7655\n",
      "Epoch 8/50\n",
      "250/250 [==============================] - 63s 252ms/step - loss: 0.4410 - accuracy: 0.7909 - val_loss: 0.4974 - val_accuracy: 0.7655\n",
      "Epoch 9/50\n",
      "250/250 [==============================] - 63s 252ms/step - loss: 0.4262 - accuracy: 0.7951 - val_loss: 0.4542 - val_accuracy: 0.8010\n",
      "Epoch 10/50\n",
      "250/250 [==============================] - 63s 254ms/step - loss: 0.4158 - accuracy: 0.8145 - val_loss: 0.4696 - val_accuracy: 0.7950\n",
      "Epoch 11/50\n",
      "250/250 [==============================] - 64s 254ms/step - loss: 0.3962 - accuracy: 0.8147 - val_loss: 0.4911 - val_accuracy: 0.7735\n",
      "Epoch 12/50\n",
      "250/250 [==============================] - 63s 254ms/step - loss: 0.4081 - accuracy: 0.8129 - val_loss: 0.4726 - val_accuracy: 0.7900\n",
      "Epoch 13/50\n",
      "250/250 [==============================] - 64s 258ms/step - loss: 0.3654 - accuracy: 0.8386 - val_loss: 0.5597 - val_accuracy: 0.7435\n",
      "Epoch 14/50\n",
      "250/250 [==============================] - 64s 257ms/step - loss: 0.3534 - accuracy: 0.8455 - val_loss: 0.5062 - val_accuracy: 0.7800\n",
      "Epoch 15/50\n",
      "250/250 [==============================] - 64s 255ms/step - loss: 0.3426 - accuracy: 0.8431 - val_loss: 0.4494 - val_accuracy: 0.8045\n",
      "Epoch 16/50\n",
      "250/250 [==============================] - 67s 269ms/step - loss: 0.3341 - accuracy: 0.8502 - val_loss: 0.5399 - val_accuracy: 0.7540\n",
      "Epoch 17/50\n",
      "250/250 [==============================] - 64s 255ms/step - loss: 0.3375 - accuracy: 0.8454 - val_loss: 0.4856 - val_accuracy: 0.8030\n",
      "Epoch 18/50\n",
      "250/250 [==============================] - 65s 259ms/step - loss: 0.3149 - accuracy: 0.8646 - val_loss: 0.4743 - val_accuracy: 0.8020\n",
      "Epoch 19/50\n",
      "250/250 [==============================] - 63s 254ms/step - loss: 0.2965 - accuracy: 0.8715 - val_loss: 0.4563 - val_accuracy: 0.8040\n",
      "Epoch 20/50\n",
      "250/250 [==============================] - 64s 257ms/step - loss: 0.2856 - accuracy: 0.8752 - val_loss: 0.4609 - val_accuracy: 0.8185\n",
      "Epoch 21/50\n",
      "250/250 [==============================] - 66s 263ms/step - loss: 0.2853 - accuracy: 0.8818 - val_loss: 0.4863 - val_accuracy: 0.8025\n",
      "Epoch 22/50\n",
      "250/250 [==============================] - 65s 258ms/step - loss: 0.2599 - accuracy: 0.8871 - val_loss: 0.4933 - val_accuracy: 0.8085\n",
      "Epoch 23/50\n",
      "250/250 [==============================] - 64s 254ms/step - loss: 0.2540 - accuracy: 0.8940 - val_loss: 0.5021 - val_accuracy: 0.8025\n",
      "Epoch 24/50\n",
      "250/250 [==============================] - 64s 257ms/step - loss: 0.2465 - accuracy: 0.8944 - val_loss: 0.5300 - val_accuracy: 0.7925\n",
      "Epoch 25/50\n",
      "250/250 [==============================] - 64s 258ms/step - loss: 0.2341 - accuracy: 0.9015 - val_loss: 0.5862 - val_accuracy: 0.7860\n",
      "Epoch 26/50\n",
      "250/250 [==============================] - 64s 254ms/step - loss: 0.2177 - accuracy: 0.9101 - val_loss: 0.5332 - val_accuracy: 0.7945\n",
      "Epoch 27/50\n",
      "250/250 [==============================] - 64s 257ms/step - loss: 0.2383 - accuracy: 0.9040 - val_loss: 0.5027 - val_accuracy: 0.8020\n",
      "Epoch 28/50\n",
      "250/250 [==============================] - 64s 256ms/step - loss: 0.2137 - accuracy: 0.9133 - val_loss: 0.6018 - val_accuracy: 0.7960\n",
      "Epoch 29/50\n",
      "250/250 [==============================] - 64s 254ms/step - loss: 0.2001 - accuracy: 0.9208 - val_loss: 0.5498 - val_accuracy: 0.8175\n",
      "Epoch 30/50\n",
      "250/250 [==============================] - 65s 259ms/step - loss: 0.1961 - accuracy: 0.9205 - val_loss: 0.5462 - val_accuracy: 0.8075\n",
      "Epoch 31/50\n",
      "250/250 [==============================] - 65s 260ms/step - loss: 0.1884 - accuracy: 0.9265 - val_loss: 0.5961 - val_accuracy: 0.8015\n",
      "Epoch 32/50\n",
      "250/250 [==============================] - 66s 264ms/step - loss: 0.1701 - accuracy: 0.9360 - val_loss: 0.5661 - val_accuracy: 0.7940\n",
      "Epoch 33/50\n",
      "250/250 [==============================] - 64s 258ms/step - loss: 0.1675 - accuracy: 0.9337 - val_loss: 0.5788 - val_accuracy: 0.8090\n",
      "Epoch 34/50\n",
      "250/250 [==============================] - 65s 259ms/step - loss: 0.1640 - accuracy: 0.9358 - val_loss: 0.6359 - val_accuracy: 0.7865\n",
      "Epoch 35/50\n",
      "250/250 [==============================] - 64s 256ms/step - loss: 0.1669 - accuracy: 0.9332 - val_loss: 0.5692 - val_accuracy: 0.8135\n",
      "Epoch 36/50\n",
      "250/250 [==============================] - 65s 261ms/step - loss: 0.1467 - accuracy: 0.9430 - val_loss: 0.5797 - val_accuracy: 0.8055\n",
      "Epoch 37/50\n",
      "250/250 [==============================] - 65s 258ms/step - loss: 0.1465 - accuracy: 0.9434 - val_loss: 0.6492 - val_accuracy: 0.8045\n",
      "Epoch 38/50\n",
      "250/250 [==============================] - 64s 256ms/step - loss: 0.1413 - accuracy: 0.9473 - val_loss: 0.6230 - val_accuracy: 0.8035\n",
      "Epoch 39/50\n",
      "250/250 [==============================] - 64s 257ms/step - loss: 0.1382 - accuracy: 0.9455 - val_loss: 0.6580 - val_accuracy: 0.7970\n",
      "Epoch 40/50\n",
      "250/250 [==============================] - 65s 259ms/step - loss: 0.1372 - accuracy: 0.9501 - val_loss: 0.6334 - val_accuracy: 0.8045\n",
      "Epoch 41/50\n",
      "250/250 [==============================] - 67s 270ms/step - loss: 0.1153 - accuracy: 0.9551 - val_loss: 0.7398 - val_accuracy: 0.7785\n",
      "Epoch 42/50\n",
      "250/250 [==============================] - 65s 259ms/step - loss: 0.1289 - accuracy: 0.9551 - val_loss: 0.6713 - val_accuracy: 0.8030\n",
      "Epoch 43/50\n",
      "250/250 [==============================] - 65s 260ms/step - loss: 0.1222 - accuracy: 0.9528 - val_loss: 0.6981 - val_accuracy: 0.7905\n",
      "Epoch 44/50\n",
      "250/250 [==============================] - 64s 258ms/step - loss: 0.1168 - accuracy: 0.9556 - val_loss: 0.7189 - val_accuracy: 0.7905\n",
      "Epoch 45/50\n",
      "250/250 [==============================] - 64s 257ms/step - loss: 0.1096 - accuracy: 0.9617 - val_loss: 0.6872 - val_accuracy: 0.7930\n",
      "Epoch 46/50\n",
      "250/250 [==============================] - 65s 262ms/step - loss: 0.1061 - accuracy: 0.9624 - val_loss: 0.7504 - val_accuracy: 0.7955\n",
      "Epoch 47/50\n",
      "250/250 [==============================] - 65s 259ms/step - loss: 0.0870 - accuracy: 0.9675 - val_loss: 0.7607 - val_accuracy: 0.8100\n",
      "Epoch 48/50\n",
      "250/250 [==============================] - 65s 259ms/step - loss: 0.0988 - accuracy: 0.9641 - val_loss: 0.7626 - val_accuracy: 0.8060\n",
      "Epoch 49/50\n",
      "250/250 [==============================] - 65s 259ms/step - loss: 0.1092 - accuracy: 0.9608 - val_loss: 0.7405 - val_accuracy: 0.8000\n",
      "Epoch 50/50\n",
      "250/250 [==============================] - 67s 270ms/step - loss: 0.0883 - accuracy: 0.9704 - val_loss: 0.7887 - val_accuracy: 0.8070\n"
     ]
    },
    {
     "data": {
      "text/plain": [
       "<tensorflow.python.keras.callbacks.History at 0x2c96171feb0>"
      ]
     },
     "execution_count": 13,
     "metadata": {},
     "output_type": "execute_result"
    }
   ],
   "source": [
    "cnn.fit(x = training_set, validation_data = test_set, epochs = 50)"
   ]
  },
  {
   "cell_type": "markdown",
   "metadata": {
    "colab_type": "text",
    "id": "U3PZasO0006Z"
   },
   "source": [
    "## Part 4 - Making a single prediction"
   ]
  },
  {
   "cell_type": "code",
   "execution_count": 22,
   "metadata": {
    "colab": {},
    "colab_type": "code",
    "id": "gsSiWEJY1BPB"
   },
   "outputs": [
    {
     "name": "stdout",
     "output_type": "stream",
     "text": [
      "{'cats': 0, 'dogs': 1}\n"
     ]
    }
   ],
   "source": [
    "import numpy as np\n",
    "from keras.preprocessing import image\n",
    "test_image = image.load_img('dataset/single_prediction/anky.jpg', target_size = (64, 64))\n",
    "test_image = image.img_to_array(test_image)\n",
    "test_image = np.expand_dims(test_image, axis = 0)\n",
    "result = cnn.predict(test_image)\n",
    "print(training_set.class_indices)\n",
    "if result[0][0] == 1:\n",
    "  prediction = 'dog'\n",
    "else:\n",
    "  prediction = 'cat'"
   ]
  },
  {
   "cell_type": "code",
   "execution_count": 23,
   "metadata": {
    "colab": {},
    "colab_type": "code",
    "id": "ED9KB3I54c1i"
   },
   "outputs": [
    {
     "name": "stdout",
     "output_type": "stream",
     "text": [
      "dog\n"
     ]
    }
   ],
   "source": [
    "print(prediction)"
   ]
  },
  {
   "cell_type": "code",
   "execution_count": null,
   "metadata": {},
   "outputs": [],
   "source": []
  }
 ],
 "metadata": {
  "colab": {
   "collapsed_sections": [],
   "name": "convolutional_neural_network.ipynb",
   "provenance": [],
   "toc_visible": true
  },
  "kernelspec": {
   "display_name": "Python 3",
   "language": "python",
   "name": "python3"
  },
  "language_info": {
   "codemirror_mode": {
    "name": "ipython",
    "version": 3
   },
   "file_extension": ".py",
   "mimetype": "text/x-python",
   "name": "python",
   "nbconvert_exporter": "python",
   "pygments_lexer": "ipython3",
   "version": "3.8.5"
  }
 },
 "nbformat": 4,
 "nbformat_minor": 1
}
